{
 "cells": [
  {
   "cell_type": "code",
   "execution_count": 1,
   "metadata": {},
   "outputs": [],
   "source": [
    "import numpy as np\n",
    "from sklearn.neighbors import KDTree\n",
    "import matplotlib.pyplot as plt\n",
    "import time\n",
    "import os\n",
    "from annoy import AnnoyIndex"
   ]
  },
  {
   "cell_type": "code",
   "execution_count": 2,
   "metadata": {},
   "outputs": [],
   "source": [
    "def random_unit_vectors(num_vectors, n):\n",
    "    # Gera uma matriz de vetores com distribuição normal (gaussiana)\n",
    "    vectors = np.random.normal(0, 1, (num_vectors, n))\n",
    "    norm = np.linalg.norm(vectors, axis = 1)\n",
    "    for i in np.where(norm != 1.0)[0]:\n",
    "        vectors[i] = vectors[i] / np.linalg.norm(vectors[i])\n",
    "    vectors = vectors.astype(np.float32)\n",
    "    norm = np.linalg.norm(vectors, axis = 1)\n",
    "    for i in np.where(norm != 1.0)[0]:\n",
    "        vectors[i] = vectors[i] / np.linalg.norm(vectors[i])\n",
    "    \n",
    "    return vectors\n",
    "\n",
    "def L2(query, features):\n",
    "    # Compute L2 distance between query and features\n",
    "    return np.sqrt(np.sum((query - features)**2, axis=1))\n",
    "\n",
    "def knn(query, k, features, distFunc = None, tie = 0):\n",
    "    \"\"\"\n",
    "    Realiza uma busca k-NN (k-Nearest Neighbors) utilizando uma função de distância personalizada.\n",
    "\n",
    "    Parameters\n",
    "    ----------\n",
    "    query : np.ndarray\n",
    "        O vetor de consulta para o qual os vizinhos mais próximos serão encontrados.\n",
    "    k : int\n",
    "        O número de vizinhos mais próximos a serem retornados.\n",
    "    features : np.ndarray\n",
    "        Um array 2D onde cada linha é um vetor de características.\n",
    "    distFunc : callable, optional\n",
    "        A função de distância a ser utilizada. Se None, a função L2 (distância Euclidiana) será utilizada (default é None).\n",
    "    tie : int, optional\n",
    "        Se 1, verifica se há mais características com a mesma distância que o k-ésimo vizinho mais próximo e as inclui no resultado (default é 0).\n",
    "\n",
    "    Returns\n",
    "    -------\n",
    "    list of tuple\n",
    "        Uma lista de tuplas onde cada tupla contém o índice e a distância do vizinho mais próximo no array de características.\n",
    "        A lista é ordenada pela distância em ordem crescente.\n",
    "\n",
    "    Notes\n",
    "    -----\n",
    "    Em caso de empate (distâncias iguais) e se `tie` for 1, todos os vizinhos com a mesma distância que o k-ésimo vizinho mais próximo são incluídos no resultado.\n",
    "    \"\"\"\n",
    "    if distFunc is None:\n",
    "        distFunc = L2\n",
    "    \n",
    "    # Vetor com distâncias\n",
    "    distances = distFunc(query, features)\n",
    "    k_nearest = []\n",
    "     \n",
    "    for i in range(k):\n",
    "        min_idx = np.argmin(distances)\n",
    "        k_nearest.append((min_idx, distances[min_idx]))\n",
    "        distances[min_idx] = np.inf\n",
    "        \n",
    "    # Check if there are more features with the same distance\n",
    "    if tie:\n",
    "        min_idx = np.argmin(distances)\n",
    "        while distances[min_idx] == k_nearest[-1][1]:\n",
    "            k_nearest.append((min_idx, distances[min_idx]))\n",
    "            distances[min_idx] = np.inf\n",
    "            min_idx = np.argmin(distances)\n",
    "    \n",
    "    return k_nearest"
   ]
  },
  {
   "cell_type": "code",
   "execution_count": 3,
   "metadata": {},
   "outputs": [
    {
     "data": {
      "text/plain": [
       "((100000, 128), (80, 128))"
      ]
     },
     "execution_count": 3,
     "metadata": {},
     "output_type": "execute_result"
    }
   ],
   "source": [
    "# Gerar vetores\n",
    "num_vectors = 100000\n",
    "n = 128\n",
    "np.random.seed(42)\n",
    "random_vectors = random_unit_vectors(num_vectors, n)\n",
    "\n",
    "# Gerar queries\n",
    "np.random.seed(235)\n",
    "list_of_queries = random_unit_vectors(80, n)\n",
    "random_vectors.shape, list_of_queries.shape"
   ]
  },
  {
   "cell_type": "code",
   "execution_count": 4,
   "metadata": {},
   "outputs": [
    {
     "name": "stdout",
     "output_type": "stream",
     "text": [
      "Query 1: 73.485 ms\n",
      "Query 2: 86.354 ms\n",
      "Query 3: 66.092 ms\n",
      "Query 4: 73.479 ms\n",
      "Query 5: 69.304 ms\n",
      "Query 6: 59.918 ms\n",
      "Query 7: 46.254 ms\n",
      "Query 8: 68.606 ms\n",
      "Query 9: 114.649 ms\n",
      "Query 10: 100.094 ms\n",
      "Query 11: 62.259 ms\n",
      "Query 12: 58.308 ms\n",
      "Query 13: 43.409 ms\n",
      "Query 14: 70.886 ms\n",
      "Query 15: 86.135 ms\n",
      "Query 16: 69.674 ms\n",
      "Query 17: 78.671 ms\n",
      "Query 18: 60.405 ms\n",
      "Query 19: 49.064 ms\n",
      "Query 20: 41.941 ms\n",
      "Query 21: 42.276 ms\n",
      "Query 22: 67.138 ms\n",
      "Query 23: 32.119 ms\n",
      "Query 24: 66.491 ms\n",
      "Query 25: 49.773 ms\n",
      "Query 26: 54.505 ms\n",
      "Query 27: 62.199 ms\n",
      "Query 28: 66.629 ms\n",
      "Query 29: 58.931 ms\n",
      "Query 30: 63.101 ms\n",
      "Query 31: 61.552 ms\n",
      "Query 32: 75.444 ms\n",
      "Query 33: 57.482 ms\n",
      "Query 34: 67.628 ms\n",
      "Query 35: 48.078 ms\n",
      "Query 36: 33.332 ms\n",
      "Query 37: 49.995 ms\n",
      "Query 38: 61.458 ms\n",
      "Query 39: 59.184 ms\n",
      "Query 40: 46.170 ms\n",
      "Query 41: 49.981 ms\n",
      "Query 42: 84.069 ms\n",
      "Query 43: 99.302 ms\n",
      "Query 44: 66.633 ms\n",
      "Query 45: 50.040 ms\n",
      "Query 46: 66.458 ms\n",
      "Query 47: 71.222 ms\n",
      "Query 48: 89.655 ms\n",
      "Query 49: 72.513 ms\n",
      "Query 50: 50.021 ms\n",
      "Query 51: 50.157 ms\n",
      "Query 52: 49.757 ms\n",
      "Query 53: 49.896 ms\n",
      "Query 54: 50.075 ms\n",
      "Query 55: 57.137 ms\n",
      "Query 56: 43.028 ms\n",
      "Query 57: 54.711 ms\n",
      "Query 58: 61.908 ms\n",
      "Query 59: 66.441 ms\n",
      "Query 60: 86.490 ms\n",
      "Query 61: 97.102 ms\n",
      "Query 62: 100.405 ms\n",
      "Query 63: 82.680 ms\n",
      "Query 64: 66.678 ms\n",
      "Query 65: 62.187 ms\n",
      "Query 66: 54.780 ms\n",
      "Query 67: 49.721 ms\n",
      "Query 68: 49.924 ms\n",
      "Query 69: 50.024 ms\n",
      "Query 70: 50.074 ms\n",
      "Query 71: 61.126 ms\n",
      "Query 72: 55.577 ms\n",
      "Query 73: 50.025 ms\n",
      "Query 74: 66.625 ms\n",
      "Query 75: 56.872 ms\n",
      "Query 76: 60.014 ms\n",
      "Query 77: 49.657 ms\n",
      "Query 78: 66.881 ms\n",
      "Query 79: 68.827 ms\n",
      "Query 80: 63.382 ms\n",
      "Total time: 5034.53 ms, Median time: 61.505 ms\n"
     ]
    }
   ],
   "source": [
    "# Perform k-NN search for each query\n",
    "results = []\n",
    "k = 32\n",
    "times = []\n",
    "\n",
    "for query in list_of_queries:\n",
    "    \n",
    "    t0 = time.time()\n",
    "    k_nearest = knn(query, k, random_vectors, tie=0)\n",
    "    results.append(k_nearest)\n",
    "    t1 = time.time()\n",
    "    \n",
    "    dt = (t1-t0)*1000\n",
    "    print(f\"Query {len(results)}: {dt:.3f} ms\")\n",
    "    times.append(dt)\n",
    "\n",
    "# Mean and standard deviation of time\n",
    "median_time = np.median(times)\n",
    "total_time = np.sum(times)\n",
    "print(f\"Total time: {total_time:.2f} ms, Median time: {median_time:.3f} ms\")"
   ]
  },
  {
   "cell_type": "code",
   "execution_count": 5,
   "metadata": {},
   "outputs": [
    {
     "name": "stdout",
     "output_type": "stream",
     "text": [
      "[(91844, 1.136661), (17564, 1.1378299), (33805, 1.1448735), (18666, 1.145155), (41991, 1.1482445), (63406, 1.1485198), (63799, 1.1503543), (70384, 1.1506016), (77743, 1.1545849), (29698, 1.155954), (3758, 1.1588564), (52268, 1.1609489), (68080, 1.1610289), (23512, 1.1649672), (81694, 1.1650403), (20900, 1.1675389), (86881, 1.1686496), (56749, 1.1710454), (71121, 1.1724294), (41006, 1.174596), (68221, 1.1752834), (35921, 1.1774664), (52723, 1.178008), (53850, 1.1781019), (5091, 1.1788859), (67976, 1.1798925), (37578, 1.1799468), (9015, 1.1804007), (4153, 1.1805314), (78378, 1.1839035), (19633, 1.1843182), (42649, 1.1849439)]\n"
     ]
    }
   ],
   "source": [
    "k_nearest = knn(list_of_queries[0], k, random_vectors, tie=0)\n",
    "lknn = list(k_nearest)\n",
    "print(lknn)"
   ]
  },
  {
   "cell_type": "code",
   "execution_count": 8,
   "metadata": {},
   "outputs": [
    {
     "name": "stdout",
     "output_type": "stream",
     "text": [
      "12 81694 != 68080\n",
      "13 86881 != 23512\n",
      "14 71121 != 81694\n",
      "15 41006 != 20900\n",
      "16 68221 != 86881\n",
      "17 53850 != 56749\n",
      "18 67976 != 71121\n",
      "19 37578 != 41006\n",
      "20 4153 != 68221\n",
      "21 78378 != 35921\n",
      "22 19633 != 52723\n",
      "23 42649 != 53850\n",
      "24 10183 != 5091\n",
      "25 58748 != 67976\n",
      "26 41600 != 37578\n",
      "27 38036 != 9015\n",
      "28 9415 != 4153\n",
      "29 78048 != 78378\n",
      "30 32609 != 19633\n",
      "31 25344 != 42649\n"
     ]
    }
   ],
   "source": [
    "a = [(91844, 1.1366609334945679), (17564, 1.1378300189971924), (33805, 1.1448736190795898), (18666, 1.1451550722122192), (41991, 1.1482445001602173), (63406, 1.14851975440979), (63799, 1.1503543853759766), (70384, 1.1506015062332153), (77743, 1.1545848846435547), (29698, 1.1559538841247559), (3758, 1.1588562726974487), (52268, 1.1609488725662231), (81694, 1.1650402545928955), (86881, 1.1686495542526245), (71121, 1.1724293231964111), (41006, 1.174595832824707), (68221, 1.1752831935882568), (53850, 1.1781021356582642), (67976, 1.1798925399780273), (37578, 1.1799466609954834), (4153, 1.1805312633514404), (78378, 1.1839035749435425), (19633, 1.1843183040618896), (42649, 1.1849439144134521), (10183, 1.1860792636871338), (58748, 1.1866508722305298), (41600, 1.187021017074585), (38036, 1.1881496906280518), (9415, 1.1882237195968628), (78048, 1.1886341571807861), (32609, 1.1891897916793823), (25344, 1.189258337020874)]\n",
    "\n",
    "for i in range(32):\n",
    "    if a[i][0] != lknn[i][0]:\n",
    "        print(i, a[i][0], \"!=\", lknn[i][0])"
   ]
  },
  {
   "cell_type": "code",
   "execution_count": 6,
   "metadata": {},
   "outputs": [],
   "source": [
    "# Construir a árvore KDTree\n",
    "tree = KDTree(random_vectors)"
   ]
  },
  {
   "cell_type": "code",
   "execution_count": 7,
   "metadata": {},
   "outputs": [
    {
     "name": "stdout",
     "output_type": "stream",
     "text": [
      "[(39012, 0.8540882087764496), (72022, 0.8588310375973289), (97966, 0.8620615211822189), (77034, 0.8641481891478793), (5199, 0.8701768721669323), (43414, 0.8740318057844166), (6378, 0.8786597144619676), (71688, 0.8786978419617187), (82336, 0.885273151852604), (60077, 0.8862355273851796), (62201, 0.8914727288571067), (70115, 0.8932470236849629), (91614, 0.8941340346093617), (26890, 0.8951905566626349), (49897, 0.9017866117124517), (49274, 0.9018788419543528), (83391, 0.9044178763832441), (2429, 0.916806952163638), (87362, 0.9168840365332922), (14629, 0.9173161402807113), (29331, 0.9194732746553261), (64151, 0.9217168724170083), (86495, 0.9232730752544106), (31970, 0.9243479558018235), (55268, 0.9264679696568147), (8526, 0.9284950315321479), (70457, 0.9291735715270502), (93785, 0.9310438750451115), (87951, 0.9335948919178855), (21445, 0.936514821525829), (87922, 0.93701967991894), (77227, 0.9387216371642045)]\n",
      "Query KDTree:  2065.000057220459 ms\n"
     ]
    }
   ],
   "source": [
    "t0 = time.time()\n",
    "distances, indices = tree.query(list_of_queries, k=k)\n",
    "t1 = time.time()\n",
    "\n",
    "dt = (t1-t0)*1000\n",
    "\n",
    "print([(index, distance) for index, distance in zip(indices[0], distances[0])])\n",
    "print(\"Query KDTree: \", dt, \"ms\")"
   ]
  },
  {
   "cell_type": "code",
   "execution_count": 8,
   "metadata": {},
   "outputs": [
    {
     "ename": "",
     "evalue": "",
     "output_type": "error",
     "traceback": [
      "\u001b[1;31mThe Kernel crashed while executing code in the current cell or a previous cell. \n",
      "\u001b[1;31mPlease review the code in the cell(s) to identify a possible cause of the failure. \n",
      "\u001b[1;31mClick <a href='https://aka.ms/vscodeJupyterKernelCrash'>here</a> for more info. \n",
      "\u001b[1;31mView Jupyter <a href='command:jupyter.viewOutput'>log</a> for further details."
     ]
    }
   ],
   "source": [
    "annoy = AnnoyIndex(n, 'euclidean')\n",
    "for i in range(random_vectors.shape[0]):\n",
    "    annoy.add_item(i, random_vectors[i, :])\n",
    "annoy.build(n_trees=1)\n",
    "\n",
    "indices = annoy.get_nns_by_vector(list_of_queries[0], 20)\n",
    "print('end')"
   ]
  },
  {
   "cell_type": "code",
   "execution_count": null,
   "metadata": {},
   "outputs": [],
   "source": []
  }
 ],
 "metadata": {
  "kernelspec": {
   "display_name": "Python 3",
   "language": "python",
   "name": "python3"
  },
  "language_info": {
   "codemirror_mode": {
    "name": "ipython",
    "version": 3
   },
   "file_extension": ".py",
   "mimetype": "text/x-python",
   "name": "python",
   "nbconvert_exporter": "python",
   "pygments_lexer": "ipython3",
   "version": "3.12.0"
  }
 },
 "nbformat": 4,
 "nbformat_minor": 2
}
