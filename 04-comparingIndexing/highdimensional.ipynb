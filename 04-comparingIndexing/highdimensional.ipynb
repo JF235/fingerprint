{
 "cells": [
  {
   "cell_type": "code",
   "execution_count": 1,
   "metadata": {},
   "outputs": [],
   "source": [
    "import numpy as np\n",
    "import matplotlib.pyplot as plt\n",
    "import time\n",
    "import os\n",
    "\n",
    "# Use plt style default\n",
    "plt.style.use('default')"
   ]
  },
  {
   "cell_type": "markdown",
   "metadata": {},
   "source": [
    "# 1) Preparando Terreno"
   ]
  },
  {
   "cell_type": "markdown",
   "metadata": {},
   "source": [
    "To generate random vectors uniformly distributed on the surface of an $n$-dimensional sphere with radius 1, follow these steps:\n",
    "\n",
    "1. **Generate Gaussian random variables**:\n",
    "\n",
    "    First, generate a vector $\\mathbf{v}\\in \\mathbb{R}^n$ where each component $v_i$ is sampled from a standard normal distribution, i.e., $v_i\\sim\\mathcal{N}(0,1)$. This gives you random points in $n$-dimensional space that are not uniformly distributed on the sphere yet.\n",
    "\n",
    "2. **Normalize the vector**:\n",
    "\n",
    "    To project the point onto the unit sphere, normalize the vector $\\mathbf{v}$ so that its magnitude is 1. This is done by dividing $\\mathbf{v}$ by its Euclidean norm:\n",
    "\n",
    "    $$\\mathbf{u} = \\frac{\\mathbf{v}}{\\|\\mathbf{v}\\|}$$\n",
    "\n",
    "    where $\\|\\mathbf{v}\\|$ is the Euclidean norm of $\\mathbf{v}$, calculated as:\n",
    "\n",
    "    $$\\|\\mathbf{v}\\| = \\left(\\sum_{i = 1}^n v_i^2\\right)^{1/2}$$"
   ]
  },
  {
   "cell_type": "code",
   "execution_count": 2,
   "metadata": {},
   "outputs": [],
   "source": [
    "def random_unit_vectors(num_vectors, n):\n",
    "    # Gera uma matriz de vetores com distribuição normal (gaussiana)\n",
    "    vectors = np.random.normal(0, 1, (num_vectors, n))\n",
    "    norm = np.linalg.norm(vectors, axis = 1)\n",
    "    for i in np.where(norm != 1.0)[0]:\n",
    "        vectors[i] = vectors[i] / np.linalg.norm(vectors[i])\n",
    "    vectors = vectors.astype(np.float32)\n",
    "    norm = np.linalg.norm(vectors, axis = 1)\n",
    "    for i in np.where(norm != 1.0)[0]:\n",
    "        vectors[i] = vectors[i] / np.linalg.norm(vectors[i])\n",
    "    \n",
    "    return vectors\n",
    "\n",
    "# Exemplo: Gerar 5 vetores aleatórios no espaço 3D e garantir precisão float32\n",
    "num_vectors = 10000\n",
    "n = 3\n",
    "np.random.seed(42)\n",
    "random_vectors = random_unit_vectors(num_vectors, n)"
   ]
  },
  {
   "cell_type": "code",
   "execution_count": 3,
   "metadata": {},
   "outputs": [],
   "source": [
    "%matplotlib qt\n",
    "# Plot points in random_vectors on 3d sphere\n",
    "fig = plt.figure()\n",
    "ax = fig.add_subplot(111, projection='3d')\n",
    "ax.plot(random_vectors[:,0], random_vectors[:,1], random_vectors[:,2], 'o', ms=1)\n",
    "# Plot sphere with radius 1\n",
    "u = np.linspace(0, 2 * np.pi, 100)\n",
    "v = np.linspace(0, np.pi, 100)\n",
    "x = np.outer(np.cos(u), np.sin(v))\n",
    "y = np.outer(np.sin(u), np.sin(v))\n",
    "z = np.outer(np.ones(np.size(u)), np.cos(v))\n",
    "# Include edges\n",
    "ax.plot_surface(x, y, z, color='b', alpha=0.1, edgecolor='k')\n",
    "# Adjust aspect ratio\n",
    "ax.set_box_aspect([1,1,1])\n",
    "plt.tight_layout()"
   ]
  },
  {
   "cell_type": "markdown",
   "metadata": {},
   "source": [
    "# 2) Preparando busca"
   ]
  },
  {
   "cell_type": "code",
   "execution_count": 4,
   "metadata": {},
   "outputs": [],
   "source": [
    "def L2(query, features):\n",
    "    # Compute L2 distance between query and features\n",
    "    return np.sqrt(np.sum((query - features)**2, axis=1))\n",
    "\n",
    "def knn(query, k, features, distFunc = None, tie = 0):\n",
    "    \"\"\"\n",
    "    Realiza uma busca k-NN (k-Nearest Neighbors) utilizando uma função de distância personalizada.\n",
    "\n",
    "    Parameters\n",
    "    ----------\n",
    "    query : np.ndarray\n",
    "        O vetor de consulta para o qual os vizinhos mais próximos serão encontrados.\n",
    "    k : int\n",
    "        O número de vizinhos mais próximos a serem retornados.\n",
    "    features : np.ndarray\n",
    "        Um array 2D onde cada linha é um vetor de características.\n",
    "    distFunc : callable, optional\n",
    "        A função de distância a ser utilizada. Se None, a função L2 (distância Euclidiana) será utilizada (default é None).\n",
    "    tie : int, optional\n",
    "        Se 1, verifica se há mais características com a mesma distância que o k-ésimo vizinho mais próximo e as inclui no resultado (default é 0).\n",
    "\n",
    "    Returns\n",
    "    -------\n",
    "    list of tuple\n",
    "        Uma lista de tuplas onde cada tupla contém o índice e a distância do vizinho mais próximo no array de características.\n",
    "        A lista é ordenada pela distância em ordem crescente.\n",
    "\n",
    "    Notes\n",
    "    -----\n",
    "    Em caso de empate (distâncias iguais) e se `tie` for 1, todos os vizinhos com a mesma distância que o k-ésimo vizinho mais próximo são incluídos no resultado.\n",
    "    \"\"\"\n",
    "    if distFunc is None:\n",
    "        distFunc = L2\n",
    "    \n",
    "    # Vetor com distâncias\n",
    "    distances = distFunc(query, features)\n",
    "    k_nearest = []\n",
    "     \n",
    "    for i in range(k):\n",
    "        min_idx = np.argmin(distances)\n",
    "        k_nearest.append((min_idx, distances[min_idx]))\n",
    "        distances[min_idx] = np.inf\n",
    "        \n",
    "    # Check if there are more features with the same distance\n",
    "    if tie:\n",
    "        min_idx = np.argmin(distances)\n",
    "        while distances[min_idx] == k_nearest[-1][1]:\n",
    "            k_nearest.append((min_idx, distances[min_idx]))\n",
    "            distances[min_idx] = np.inf\n",
    "            min_idx = np.argmin(distances)\n",
    "    \n",
    "    return k_nearest"
   ]
  },
  {
   "cell_type": "code",
   "execution_count": 5,
   "metadata": {},
   "outputs": [
    {
     "data": {
      "text/plain": [
       "array([[ 0.6733262 ,  0.14008501, -0.72595316],\n",
       "       [-0.37680808, -0.17516552, -0.9095783 ],\n",
       "       [-0.600396  , -0.77817523,  0.18430394],\n",
       "       [ 0.6694828 , -0.70914644, -0.22114256],\n",
       "       [-0.44115913,  0.03943314,  0.89656216],\n",
       "       [-0.02321262, -0.14116941,  0.9897133 ],\n",
       "       [ 0.655004  ,  0.63452375, -0.41030395],\n",
       "       [ 0.2351463 , -0.87342113,  0.426429  ],\n",
       "       [ 0.47943065, -0.7857913 ,  0.39074072],\n",
       "       [-0.6201924 ,  0.69483495, -0.3640959 ]], dtype=float32)"
      ]
     },
     "execution_count": 5,
     "metadata": {},
     "output_type": "execute_result"
    }
   ],
   "source": [
    "np.random.seed(233)\n",
    "list_of_queries = random_unit_vectors(10, 3)\n",
    "list_of_queries"
   ]
  },
  {
   "cell_type": "code",
   "execution_count": 6,
   "metadata": {},
   "outputs": [
    {
     "name": "stdout",
     "output_type": "stream",
     "text": [
      "Query 1: 0.997 ms\n",
      "Query 2: 1.001 ms\n",
      "Query 3: 0.998 ms\n",
      "Query 4: 1.000 ms\n",
      "Query 5: 0.998 ms\n",
      "Query 6: 0.000 ms\n",
      "Query 7: 1.002 ms\n",
      "Query 8: 0.998 ms\n",
      "Query 9: 1.003 ms\n",
      "Query 10: 0.000 ms\n",
      "Total time: 0.01, Median time: 0.998 ms\n"
     ]
    }
   ],
   "source": [
    "# Perform k-NN search for each queryk = 64\n",
    "k = 32\n",
    "results = []\n",
    "times = []\n",
    "\n",
    "for query in list_of_queries:\n",
    "    \n",
    "    t0 = time.time()\n",
    "    k_nearest = knn(query, k, random_vectors, tie=0)\n",
    "    t1 = time.time()\n",
    "    results.append(k_nearest)\n",
    "    \n",
    "    \n",
    "    dt = (t1-t0)*1000\n",
    "    print(f\"Query {len(results)}: {dt:.3f} ms\")\n",
    "    times.append(dt)\n",
    "\n",
    "# Mean and standard deviation of time\n",
    "median_time = np.median(times)\n",
    "total_time = np.sum(times)\n",
    "print(f\"Total time: {total_time/1000:.2f}, Median time: {median_time:.3f} ms\")"
   ]
  },
  {
   "cell_type": "code",
   "execution_count": 7,
   "metadata": {},
   "outputs": [],
   "source": [
    "%matplotlib qt\n",
    "# Plot points in random_vectors on 3d sphere\n",
    "fig = plt.figure()\n",
    "ax = fig.add_subplot(111, projection='3d')\n",
    "ax.plot(random_vectors[:,0], random_vectors[:,1], random_vectors[:,2], 'o', ms=1)\n",
    "# Plot queries and results\n",
    "for j in range(len(list_of_queries)):\n",
    "    ax.plot(list_of_queries[j][0], list_of_queries[j][1], list_of_queries[j][2], 'o', ms=5, color='r')\n",
    "    for i in range(k):\n",
    "        idx = results[j][i][0]\n",
    "        ax.plot(random_vectors[idx,0], random_vectors[idx,1], random_vectors[idx,2], 'o', color='g', ms=2)\n",
    "\n",
    "# ax.plot(list_of_queries[0][0], list_of_queries[0][1], list_of_queries[0][2], 'o', ms=5, color='r')\n",
    "# for i in range(k):\n",
    "#     idx = results[0][i][0]\n",
    "#     ax.plot(random_vectors[idx,0], random_vectors[idx,1], random_vectors[idx,2], 'o', ms=3, color='g')\n",
    "\n",
    "# Plot sphere with radius 1\n",
    "u = np.linspace(0, 2 * np.pi, 100)\n",
    "v = np.linspace(0, np.pi, 100)\n",
    "x = np.outer(np.cos(u), np.sin(v))\n",
    "y = np.outer(np.sin(u), np.sin(v))\n",
    "z = np.outer(np.ones(np.size(u)), np.cos(v))\n",
    "# Include edges\n",
    "ax.plot_surface(x, y, z, color='b', alpha=0.1, edgecolor='k')\n",
    "# Adjust aspect ratio\n",
    "ax.set_box_aspect([1,1,1])\n",
    "plt.tight_layout()"
   ]
  },
  {
   "cell_type": "markdown",
   "metadata": {},
   "source": [
    "# 3) Testes busca"
   ]
  },
  {
   "cell_type": "code",
   "execution_count": 37,
   "metadata": {},
   "outputs": [
    {
     "data": {
      "text/plain": [
       "((100000, 4), (80, 4))"
      ]
     },
     "execution_count": 37,
     "metadata": {},
     "output_type": "execute_result"
    }
   ],
   "source": [
    "# Gerar vetores\n",
    "num_vectors = 100000\n",
    "n = 4\n",
    "np.random.seed(42)\n",
    "random_vectors = random_unit_vectors(num_vectors, n)\n",
    "\n",
    "# Gerar queries\n",
    "np.random.seed(235)\n",
    "list_of_queries = random_unit_vectors(80, n)\n",
    "random_vectors.shape, list_of_queries.shape"
   ]
  },
  {
   "cell_type": "code",
   "execution_count": 38,
   "metadata": {},
   "outputs": [],
   "source": [
    "# Save 1 million vectors to disk\n",
    "if not os.path.exists(f'datasets/random_unit_vectors_{n}d.npy'):\n",
    "    np.save(f'datasets/random_unit_vectors_{n}d.npy', random_vectors)\n",
    "\n",
    "# Save queries\n",
    "if not os.path.exists(f'datasets/random_unit_vectors_{n}d_queries.npy'):\n",
    "    np.save(f'datasets/random_unit_vectors_{n}d_queries.npy', list_of_queries)"
   ]
  },
  {
   "cell_type": "code",
   "execution_count": 40,
   "metadata": {},
   "outputs": [
    {
     "name": "stdout",
     "output_type": "stream",
     "text": [
      "Query 1: 7.998 ms\n",
      "Query 2: 6.002 ms\n",
      "Query 3: 5.996 ms\n",
      "Query 4: 9.221 ms\n",
      "Query 5: 10.998 ms\n",
      "Query 6: 6.999 ms\n",
      "Query 7: 7.002 ms\n",
      "Query 8: 7.993 ms\n",
      "Query 9: 14.004 ms\n",
      "Query 10: 10.641 ms\n",
      "Query 11: 10.000 ms\n",
      "Query 12: 12.999 ms\n",
      "Query 13: 8.999 ms\n",
      "Query 14: 17.004 ms\n",
      "Query 15: 7.996 ms\n",
      "Query 16: 12.001 ms\n",
      "Query 17: 13.034 ms\n",
      "Query 18: 6.999 ms\n",
      "Query 19: 9.001 ms\n",
      "Query 20: 5.005 ms\n",
      "Query 21: 5.999 ms\n",
      "Query 22: 6.999 ms\n",
      "Query 23: 12.452 ms\n",
      "Query 24: 7.756 ms\n",
      "Query 25: 17.003 ms\n",
      "Query 26: 11.224 ms\n",
      "Query 27: 4.997 ms\n",
      "Query 28: 4.996 ms\n",
      "Query 29: 6.006 ms\n",
      "Query 30: 5.196 ms\n",
      "Query 31: 3.999 ms\n",
      "Query 32: 8.161 ms\n",
      "Query 33: 5.171 ms\n",
      "Query 34: 4.003 ms\n",
      "Query 35: 7.999 ms\n",
      "Query 36: 6.999 ms\n",
      "Query 37: 7.367 ms\n",
      "Query 38: 5.251 ms\n",
      "Query 39: 4.000 ms\n",
      "Query 40: 8.183 ms\n",
      "Query 41: 6.180 ms\n",
      "Query 42: 3.999 ms\n",
      "Query 43: 7.001 ms\n",
      "Query 44: 6.007 ms\n",
      "Query 45: 5.291 ms\n",
      "Query 46: 6.197 ms\n",
      "Query 47: 4.999 ms\n",
      "Query 48: 5.001 ms\n",
      "Query 49: 6.160 ms\n",
      "Query 50: 5.157 ms\n",
      "Query 51: 4.000 ms\n",
      "Query 52: 7.167 ms\n",
      "Query 53: 4.984 ms\n",
      "Query 54: 4.236 ms\n",
      "Query 55: 7.001 ms\n",
      "Query 56: 5.227 ms\n",
      "Query 57: 7.420 ms\n",
      "Query 58: 7.999 ms\n",
      "Query 59: 6.454 ms\n",
      "Query 60: 7.998 ms\n",
      "Query 61: 7.189 ms\n",
      "Query 62: 7.006 ms\n",
      "Query 63: 5.996 ms\n",
      "Query 64: 4.997 ms\n",
      "Query 65: 7.005 ms\n",
      "Query 66: 5.160 ms\n",
      "Query 67: 4.001 ms\n",
      "Query 68: 7.008 ms\n",
      "Query 69: 4.996 ms\n",
      "Query 70: 5.207 ms\n",
      "Query 71: 5.998 ms\n",
      "Query 72: 5.204 ms\n",
      "Query 73: 5.000 ms\n",
      "Query 74: 8.238 ms\n",
      "Query 75: 5.161 ms\n",
      "Query 76: 4.002 ms\n",
      "Query 77: 7.000 ms\n",
      "Query 78: 7.197 ms\n",
      "Query 79: 6.001 ms\n",
      "Query 80: 6.204 ms\n",
      "Total time: 570.71 ms, Median time: 6.727 ms\n"
     ]
    }
   ],
   "source": [
    "# Perform k-NN search for each queryk = 64\n",
    "k = 32\n",
    "results = []\n",
    "times = []\n",
    "\n",
    "for query in list_of_queries:\n",
    "    \n",
    "    t0 = time.time()\n",
    "    k_nearest = knn(query, k, random_vectors, tie=0)\n",
    "    results.append(k_nearest)\n",
    "    t1 = time.time()\n",
    "    \n",
    "    dt = (t1-t0)*1000\n",
    "    print(f\"Query {len(results)}: {dt:.3f} ms\")\n",
    "    times.append(dt)\n",
    "\n",
    "# Mean and standard deviation of time\n",
    "median_time = np.median(times)\n",
    "total_time = np.sum(times)\n",
    "print(f\"Total time: {total_time:.2f} ms, Median time: {median_time:.3f} ms\")"
   ]
  },
  {
   "cell_type": "code",
   "execution_count": null,
   "metadata": {},
   "outputs": [],
   "source": []
  }
 ],
 "metadata": {
  "kernelspec": {
   "display_name": "Python 3",
   "language": "python",
   "name": "python3"
  },
  "language_info": {
   "codemirror_mode": {
    "name": "ipython",
    "version": 3
   },
   "file_extension": ".py",
   "mimetype": "text/x-python",
   "name": "python",
   "nbconvert_exporter": "python",
   "pygments_lexer": "ipython3",
   "version": "3.12.0"
  }
 },
 "nbformat": 4,
 "nbformat_minor": 2
}
