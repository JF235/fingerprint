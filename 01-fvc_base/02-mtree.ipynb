{
 "cells": [
  {
   "cell_type": "code",
   "execution_count": 1,
   "metadata": {},
   "outputs": [],
   "source": [
    "from mtree import MTree\n",
    "import numpy as np\n",
    "import matplotlib.pyplot as plt\n",
    "import random\n",
    "\n",
    "plt.style.use('default')\n",
    "colors = ['tab:red', 'tab:purple', 'tab:blue', 'tab:green', 'tab:orange', 'tab:pink', 'tab:cyan']"
   ]
  },
  {
   "cell_type": "markdown",
   "metadata": {},
   "source": [
    "# MTree\n",
    "\n",
    "## Intro\n",
    "\n",
    "Similar to a B-Tree (self-balancing sorted) that generalizes the binary search tree, allowing for nodes with more than two children. Unlike other self-balancing binary search trees, the B-tree is well suited for storage systems that read and write relatively large blocks of data, such as databases and file systems.\n",
    "\n",
    "It is constructed using a **metric** and relies on the **triangle inequality** for efficient range and k-nearest neighbor (k-NN) queries.\n",
    "\n",
    "## Description\n",
    "\n",
    "A metric space is a pair $(M, d)$ where $M$ is a set of values and $d: M \\times M \\to \\mathbb{R}^+$ is a distance function that satisfies the following axioms, considering $a, b, c \\in M$:\n",
    "1. $d(a, b) = d(b, a)$\n",
    "1. $d(a, b) = 0$ iff $a = b$\n",
    "2. (*Desigualdade Triangular*) $d(a, c) \\le d(a, b) + d(b, c)$\n",
    "\n",
    "*Example*: $M = \\mathbb{R}^n$ and $d = L^p$, where the $L^p$-norm is given by\n",
    "$$\\|\\mathbf{x}\\|_p := \\left(\\sum_{i = 1}^n |x_i|^p\\right)^{1/p}$$\n",
    "\n",
    "For $p=1$, we have the Manhattan (Taxicab) norm, for $p=2$ the Euclidean norm, and in the limit, as $p \\to \\infty$, the Chebyshev norm.\n",
    "\n",
    "The operations of interest in this tree are:\n",
    "- Range Search\n",
    "- KNN \n",
    "\n",
    "## Structure\n",
    "\n",
    "All the data is in the leaves. The internal nodes store auxiliary objects for routing the search, denoted by $O_r$."
   ]
  },
  {
   "cell_type": "markdown",
   "metadata": {},
   "source": [
    "## Range Search\n",
    "\n",
    "<img src=\"imgs/mtree_prunecond.png\" style=\"width: 50%\">\n",
    "\n",
    "**Lemma** If $d(O_r, Q) > R + r(O_r)$, then for any object $O_j$ in the subtree $T(O_r)$, $d(O_j, Q) > R$ and therefore, $T(O_r)$ can be pruned.\n",
    "\n",
    "**Pf.** From the triangle inequality, $d(O_r, Q) \\le d(O_r, O_j) + d(O_j, Q) \\Leftrightarrow d(O_j, Q) \\ge d(O_r, Q) - d(O_j, O_r)$\n",
    "\n",
    "From the definition of the radius, $d(O_j, O_r) \\le r(O_r)$\n",
    "\n",
    "From the previous results, $d(O_j, Q) \\ge d(O_r, Q) - r(O_r)$\n",
    "\n",
    "From the hypothesis, $d(O_r, Q) > R + r(O_r)$, thus\n",
    "\n",
    "$$d(O_j, Q) \\ge d(O_r, Q) - r(O_r) > \\left(R + r(O_r)\\right) - r(O_r) = R$$\n",
    "\n",
    "---\n",
    "RangeSearch($N$, $Q$, $R$)\n",
    "1. if $N$ is leaf\n",
    "2. &emsp; for $O_j$ in $N$\n",
    "3. &emsp;&emsp; if $d(O_j, Q) \\le R$\n",
    "4. &emsp;&emsp;&emsp; add($O_j$)\n",
    "5. else\n",
    "6. &emsp; for $O_r$ in $N$\n",
    "7. &emsp;&emsp; if $d(O_r, Q) \\le R + r(O_r)$\n",
    "8. &emsp;&emsp;&emsp; RS($T(O_r)$, $Q$, $R$)\n",
    "---\n",
    "\n",
    "To save on distance calculations, $d(O_r, Q)$ and $d(O_j, Q)$, the following lemma can be used:\n",
    "\n",
    "**Lemma** If $|d(Q, O_p) - d(O_p, O_r)| > R + r(O_r)$, then $d(O_r, Q) > R + r(O_r)$\n",
    "\n",
    "**Pf.** Application of the reverse triangle inequality $d(a, b) \\ge |d(a, c) - d(b, c)|$\n",
    "\n",
    "Considering that $d(Q, O_p)$ was previously calculated and $d(O_p, O_r)$ is known."
   ]
  },
  {
   "cell_type": "markdown",
   "metadata": {},
   "source": [
    "## k-NN Search\n",
    "\n",
    "O resultado vai ser colocado em um array de tamanho $k$ cuja entrada $NN[i]$ é o $i$-esimo vizinho mais próximo com distancia $d_i$. A lista $NN$ é dinamica, mas o resultado correto estara presente nela quando terminar. Ela é inicializada com todos elementos indefinidos e distancias infinitas $[\\emptyset,\\infty]$\n",
    "\n",
    "Para esse algoritmo, sera util definir dois limitantes:\n",
    "\n",
    "(Limitante Inferior) A menor distancia entre os elementos de uma sub-arvore $T(O_r)$ e uma query $Q$.\n",
    "$$d_\\text{min}(O_r) = \\max\\{0, d(O_r, Q) - r(O_r)\\}$$\n",
    "Sendo que $d_\\text{min}$ eh zero quando $Q$ esta dentro do circulo definido por $O_r$.\n",
    "\n",
    "<img src=\"imgs/mtree_knndmin.png\" style=\"width: 30%\">\n",
    "\n",
    "(Limitante Superior) A maior distancia entre um elemento de uma sub-arvore e uma query.\n",
    "$$d_\\text{max}(O_r) = d(O_r, Q) + r(O_r)$$\n",
    "\n",
    "Em particular, sao usados para podar a arvore e como criterio de selecao de uma Priority Queue (PQ) na qual a busca eh dada por:\n",
    "\n",
    "---\n",
    "ChooseNode(PR)\n",
    "1. Retorne a sub-arvore $T(O_r^\\ast)$ com menor $d_\\text{min}(O_r^\\ast)$ da PR\n",
    "---\n",
    "\n",
    "Pq esse criterio parece ser bom? Uma vez que a sub-arvore mais proxima foi selecionada, eh possivel imaginar que todos os elementos da PQ foram preenchidos com objetos com distancias pequenas. Dessa maneira, o objeto mais distante $NN[k]$ ainda esta perto e a poda pode ser mais efetiva.\n",
    "\n",
    "(Condicoes de Poda) Ao longo desse algoritmo, a lista $NN$ vai se alterando de forma dinamica. Em particular, um elemento que impacta de forma direta o espaco de busca eh o elemento $NN[k]$, cuja distancia para $Q$ eh dada por $d_k$, pois podemos podar a busca de toda $T(O_r)$ em que $d_\\text{min}(O_r) > d_k$ (se a menor distancia do conjunto for maior que meu pior candidato, uma vez que o pior candidato ainda eh melhor que todo esse conjunto).\n",
    "\n",
    "Por outro lado, se eu tenho $\\max_s d_\\text{max}(O_{s}) < d_\\text{min}(O_{r})$, tambem posso podar $T(O_r)$\n",
    "\n",
    "---\n",
    "NodeSearch($N$, $Q$, $k$)\n",
    "1. if $N$ is leaf\n",
    "2. &emsp;for $O_j$ in $N$\n",
    "3. &emsp;&emsp;if $d(O_j, Q) < d_k$ # Existe um novo melhor candidato\n",
    "4. &emsp;&emsp;&emsp;Adicionar $[O_j, d(O_j, Q)]$ em $NN$ e atualizar $d_k$\n",
    "5. &emsp;&emsp;&emsp;Podar de PR todo $O_r$ tal que $d_\\text{min}(O_r) > d_k$\n",
    "6. else\n",
    "7. &emsp;for $O_r$ in $N$\n",
    "8. &emsp;&emsp;if $d_\\text{min}(O_r) \\le d_k$ # Pode ter objetos validos\n",
    "9. &emsp;&emsp;&emsp;PQ.add([$O_r$, $d_\\text{min}(O_r)$])\n",
    "10. &emsp;&emsp;&emsp;if $d_\\text{max}(O_r) < d_k$ # Existe um novo melhor candidato\n",
    "11. &emsp;&emsp;&emsp;&emsp;Adicionar $[\\_, d_\\text{max}(O_r)]$ em $NN$ e atualizar $d_k$\n",
    "12. &emsp;&emsp;&emsp;&emsp;Podar de PR todo $O_r$ tal que $d_\\text{min}(O_r) > d_k$\n",
    "---\n",
    "\n",
    "Quem fica repetindo essa chamada eh a funcao\n",
    "\n",
    "---\n",
    "KnnSearch(Root, $Q$, $k$)\n",
    "1. PR = [Root, _]\n",
    "2. Inicializa NN[i] = [_, inf]\n",
    "3. Enquanto PR $\\neq \\emptyset$\n",
    "4. &emsp;NextNode=ChooseNode(PR)\n",
    "5. &emsp;NodeSearch(NextNode, $Q$, $k$)\n",
    "---"
   ]
  },
  {
   "cell_type": "markdown",
   "metadata": {},
   "source": [
    "### Variantes\n",
    "\n",
    "VP-Tree e MVP-Tree (nao balanceadas)\n",
    "\n",
    "### Downside\n",
    "\n",
    "While M-trees can perform well in many conditions, the tree can also have large overlap and there is no clear strategy on how to best avoid overlap.\n",
    "\n",
    "A Distância cosseno dada por\n",
    "$$d_\\text{cos}(\\mathbf{z}_i, \\mathbf{z}_j) = 1 - \\mathbf{z}_i\\cdot \\mathbf{z}_j$$\n",
    "não é uma métrica, pois não satisfaz a desigualdade triangular.\n",
    "\n",
    "Exemplo: $(1, 0), (0, 1), (1/\\sqrt{2}, 1/\\sqrt{2})$\n",
    "\n",
    "$$d\\left((1, 0), (1/\\sqrt{2}, 1/\\sqrt{2})\\right) + d\\left((1/\\sqrt{2}, 1/\\sqrt{2}), (0, 1)\\right) = $$\n",
    "$$1 - 1/\\sqrt{2} + 1 - 1/\\sqrt{2} = 2 - \\sqrt{2} = 0.58$$\n",
    "\n",
    "$$d\\left((0, 1), (1, 0)\\right) = 1 > 0.58\\quad (!)$$\n",
    "\n",
    "A Distância Euclidiana é uma métrica e a sua relação com a distância cosseno é\n",
    "\n",
    "$$d_\\text{L2}(a, b) = \\sqrt{(a-b)\\cdot(a-b)} = \\sqrt{a\\cdot a + b\\cdot b - 2a\\cdot b} = \\sqrt{a\\cdot a + b\\cdot b - 2(1 - d_\\text{cos}(a,b))}$$\n",
    "\n",
    "Considerando vetores unitários \n",
    "\n",
    "$$d_\\text{L2}(a,b) = (a,b)\\sqrt{2 - 2(1 - d_\\text{cos}(a,b))} = \\sqrt{2 d_\\text{cos}(a,b)}$$\n",
    "\n",
    "Outra opção é a distância angular, mas nesse caso seria necessário calcular a função transcendente $\\arccos(\\cdot)$\n",
    "\n",
    "kNN on cosine distance:\n",
    "- knn with cosine similarity (distance): https://github.com/miladce/knn-cosine-similarity\n",
    "- A Triangle Inequality for Cosine Similarity: https://www.sisap.org/2021/preprints/03_Schubert.pdf"
   ]
  },
  {
   "cell_type": "code",
   "execution_count": 2,
   "metadata": {},
   "outputs": [],
   "source": [
    "def plot_vectors(vectors):\n",
    "    plt.figure(figsize=(8, 8))\n",
    "    ax = plt.gca()\n",
    "    ax.set_xlim([-1.5, 1.5])\n",
    "    ax.set_ylim([-1.5, 1.5])\n",
    "    ax.axhline(y=0, color='k')\n",
    "    ax.axvline(x=0, color='k')\n",
    "    ax.grid(True, which='both')\n",
    "    \n",
    "    n = len(vectors)\n",
    "    random.shuffle(colors)\n",
    "    for i in range(n):\n",
    "        v = vectors[i]['vector']\n",
    "        plt.quiver(0, 0, v[0], v[1], angles='xy', scale_units='xy', scale=1, color=colors[i], label=vectors[i]['id'])\n",
    "\n",
    "    plt.legend()\n",
    "    plt.xlabel('X-axis')\n",
    "    plt.ylabel('Y-axis')\n",
    "    plt.title('Plot of 2D Vectors')"
   ]
  },
  {
   "cell_type": "code",
   "execution_count": 3,
   "metadata": {},
   "outputs": [
    {
     "data": {
      "image/png": "[encoded data removed]",
      "text/plain": [
       "<Figure size 800x800 with 1 Axes>"
      ]
     },
     "metadata": {},
     "output_type": "display_data"
    }
   ],
   "source": [
    "vectors = []\n",
    "n = 7\n",
    "for i in range(n):\n",
    "    v = 2*np.random.rand(2) - 1\n",
    "    vectors.append({'id': i, 'vector': v/np.linalg.norm(v)})\n",
    "plot_vectors(vectors)"
   ]
  },
  {
   "cell_type": "code",
   "execution_count": 11,
   "metadata": {},
   "outputs": [],
   "source": [
    "def dcos(x ,y):\n",
    "    return 1 - np.dot(x['vector'], y['vector'])\n",
    "\n",
    "def dL2(x ,y):\n",
    "    return np.sqrt(2 * dcos(x, y))\n",
    "\n",
    "def L2(x, y):\n",
    "    return np.linalg.norm(x['vector'] - y['vector'])\n",
    "\n",
    "tree = MTree(L2, max_node_size=4)"
   ]
  },
  {
   "cell_type": "code",
   "execution_count": 12,
   "metadata": {},
   "outputs": [],
   "source": [
    "for i in range(n):\n",
    "    if i == 6:\n",
    "        continue\n",
    "    else:\n",
    "        tree.add(vectors[i])\n",
    "\n",
    "#tree.add_all([vectors[i] for i in range(1, 6)])"
   ]
  },
  {
   "cell_type": "code",
   "execution_count": 10,
   "metadata": {},
   "outputs": [
    {
     "data": {
      "text/plain": [
       "[{'id': 1, 'vector': array([-0.78293289,  0.62210617])},\n",
       " {'id': 4, 'vector': array([-0.4135366,  0.9104875])},\n",
       " None]"
      ]
     },
     "execution_count": 10,
     "metadata": {},
     "output_type": "execute_result"
    }
   ],
   "source": [
    "# k-NN search\n",
    "k = 3\n",
    "list(tree.search(vectors[6], k))"
   ]
  }
 ],
 "metadata": {
  "kernelspec": {
   "display_name": "Python 3",
   "language": "python",
   "name": "python3"
  },
  "language_info": {
   "codemirror_mode": {
    "name": "ipython",
    "version": 3
   },
   "file_extension": ".py",
   "mimetype": "text/x-python",
   "name": "python",
   "nbconvert_exporter": "python",
   "pygments_lexer": "ipython3",
   "version": "3.12.0"
  }
 },
 "nbformat": 4,
 "nbformat_minor": 2
}
