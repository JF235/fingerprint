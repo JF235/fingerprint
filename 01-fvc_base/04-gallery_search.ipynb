{
 "cells": [
  {
   "cell_type": "code",
   "execution_count": 11,
   "metadata": {},
   "outputs": [],
   "source": [
    "import numpy as np\n",
    "import matplotlib as mpl\n",
    "import matplotlib.pyplot as plt\n",
    "from mtree import MTree\n",
    "from plotting import set_plot_datapath, plot_minutia_zoom, plot_minutia_compare, imshow_sample, mark_minutia\n",
    "import csv\n",
    "import os\n",
    "\n",
    "mpl.rcParams['text.usetex'] = True\n",
    "mpl.rcParams['text.latex.preamble'] = r'\\usepackage{{amsmath}}'\n",
    "datapath = '../data/fvc2002/'\n",
    "set_plot_datapath(datapath)"
   ]
  },
  {
   "cell_type": "code",
   "execution_count": 12,
   "metadata": {},
   "outputs": [],
   "source": [
    "def get_data() -> list:\n",
    "    gallery = []\n",
    "    for i in range(1,11):\n",
    "        for j in range(1,9):\n",
    "            if (i, j) == (10, 4):\n",
    "                # Dado problemático\n",
    "                continue\n",
    "            \n",
    "            filename = datapath + f'features/A{i}_{j}.npy'\n",
    "            features = np.load(filename)\n",
    "\n",
    "            for k in range(features.shape[0]):\n",
    "                gallery.append({'finger': i, 'sample': j, 'minutia_no': k, 'vec': features[k, :]})\n",
    "    return gallery\n",
    "\n",
    "def Dcos(x, y):\n",
    "    eps = 1e-5 # Ensure positivity\n",
    "    return 1 + eps - np.dot(x['vec'], y['vec'])\n",
    "\n",
    "def L2(x, y):\n",
    "    return np.linalg.norm(x['vec'] - y['vec'])\n",
    "\n",
    "def matchDict2csv(matchDict: dict, filename: str) -> None:\n",
    "    matchDict = dict(sorted(matchDict.items(), key=lambda item: item[1], reverse=True))\n",
    "\n",
    "    # Abrindo o arquivo CSV para escrita\n",
    "    with open(filename, mode='w', newline='') as file:\n",
    "        writer = csv.writer(file)\n",
    "        \n",
    "        # Escrevendo o cabeçalho\n",
    "        writer.writerow(['Sample Name', 'Value'])\n",
    "        \n",
    "        # Escrevendo os dados\n",
    "        for sample_name, value in matchDict.items():\n",
    "            writer.writerow([sample_name, value])\n",
    "\n",
    "def gallery_search(finger, sample):\n",
    "    \n",
    "    # Para cada minúcia, encontrar os k mais próximos\n",
    "    filename = datapath + f'features/A{finger}_{sample}.npy'\n",
    "    features = np.load(filename)\n",
    "\n",
    "    sample_features = []\n",
    "    for k in range(features.shape[0]):\n",
    "        sample_features.append({'finger': finger, 'sample': sample, 'minutia_no': k, 'vec': features[k, :]})\n",
    "    \n",
    "    results = []\n",
    "    for feature in sample_features:\n",
    "        k = 8\n",
    "        results.append(list(tree.search(feature, k)))\n",
    "        \n",
    "    # Agrupar os resultados de cada minúcia\n",
    "    matchDict = dict()\n",
    "    for minutia_no in range(len(sample_features)):\n",
    "        for r in results[minutia_no]:\n",
    "            if r is None:\n",
    "                continue\n",
    "            key = f\"A{r['finger']}_{r['sample']}\"\n",
    "            matchDict[key] = matchDict.get(key, 0) + 1 # Score\n",
    "\n",
    "    matchDict2csv(matchDict, f'results/cosineDist/A{finger}_{sample}.csv')"
   ]
  },
  {
   "cell_type": "code",
   "execution_count": 13,
   "metadata": {},
   "outputs": [],
   "source": [
    "gallery = get_data()\n",
    "\n",
    "tree = MTree(Dcos, max_node_size=8)\n",
    "tree.add_all(gallery)\n",
    "\n",
    "for f in range(1,11):\n",
    "    for s in range(1,9):\n",
    "        if (f, s) == (10, 4):\n",
    "            # Dado problemático\n",
    "            continue\n",
    "        gallery_search(f, s)"
   ]
  },
  {
   "cell_type": "code",
   "execution_count": 16,
   "metadata": {},
   "outputs": [],
   "source": [
    "def process_file(file_path):\n",
    "    global counter\n",
    "    if file_path.endswith('.csv'):\n",
    "        with open(file_path, mode='r') as file:\n",
    "            csv_reader = csv.reader(file)\n",
    "            header = next(csv_reader)  # Skip the header\n",
    "            \n",
    "            # Read the first two lines\n",
    "            first_line = next(csv_reader, None)\n",
    "            second_line = next(csv_reader, None)\n",
    "            if first_line and second_line:\n",
    "                id1 = first_line[0].split('_')[0][1:]\n",
    "                id2 = second_line[0].split('_')[0][1:]\n",
    "                if id1 == id2:\n",
    "                    counter += 1\n",
    "                \n",
    "            ids = []\n",
    "            # for i in range(7):\n",
    "            #     line = next(csv_reader, None)\n",
    "            #     if line:\n",
    "            #         id = line[0].split('_')[0][1:]\n",
    "            #         ids.append(id)\n",
    "            #     else:\n",
    "            #         break\n",
    "                \n",
    "            return tuple(ids)\n",
    "\n",
    "def process_dir(directory):\n",
    "    results = []\n",
    "    \n",
    "    for filename in os.listdir(directory):\n",
    "        file_path = os.path.join(directory, filename)\n",
    "        process_file(file_path)\n",
    "        #results.append(res)\n",
    "        \n",
    "    return results"
   ]
  },
  {
   "cell_type": "code",
   "execution_count": 18,
   "metadata": {},
   "outputs": [
    {
     "data": {
      "text/plain": [
       "79"
      ]
     },
     "execution_count": 18,
     "metadata": {},
     "output_type": "execute_result"
    }
   ],
   "source": [
    "directory_path = 'results/cosineDist'\n",
    "counter = 0\n",
    "results = process_dir(directory_path)\n",
    "counter"
   ]
  }
 ],
 "metadata": {
  "kernelspec": {
   "display_name": "Python 3",
   "language": "python",
   "name": "python3"
  },
  "language_info": {
   "codemirror_mode": {
    "name": "ipython",
    "version": 3
   },
   "file_extension": ".py",
   "mimetype": "text/x-python",
   "name": "python",
   "nbconvert_exporter": "python",
   "pygments_lexer": "ipython3",
   "version": "3.12.0"
  }
 },
 "nbformat": 4,
 "nbformat_minor": 2
}
